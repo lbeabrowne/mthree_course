{
 "cells": [
  {
   "cell_type": "code",
   "execution_count": 1,
   "id": "55e5024e-a53d-4dd7-8779-38b94669708b",
   "metadata": {},
   "outputs": [],
   "source": [
    "# Lucy Browne, 23/10/25"
   ]
  },
  {
   "cell_type": "code",
   "execution_count": 7,
   "id": "a984664b-6366-45b4-8d4e-a6f0948c042d",
   "metadata": {},
   "outputs": [
    {
     "name": "stdout",
     "output_type": "stream",
     "text": [
      "Please enter your details below:\n",
      "\n"
     ]
    },
    {
     "name": "stdin",
     "output_type": "stream",
     "text": [
      "first name: Lucy\n",
      "last name: Browne\n",
      "phone number: 78783430\n",
      "year born: 1996\n"
     ]
    },
    {
     "name": "stdout",
     "output_type": "stream",
     "text": [
      "\n",
      "Lucy, Browne, 78783430, 1996\n"
     ]
    }
   ],
   "source": [
    "print(\"Please enter your details below:\\n\")\n",
    "\n",
    "first_name = input(\"first name:\")\n",
    "last_name = input(\"last name:\")\n",
    "phone_number = input(\"phone number:\")\n",
    "year_born = input(\"year born:\")\n",
    "\n",
    "print(f\"\\n{first_name}, {last_name}, {phone_number}, {year_born}\")"
   ]
  }
 ],
 "metadata": {
  "kernelspec": {
   "display_name": "Python [conda env:base] *",
   "language": "python",
   "name": "conda-base-py"
  },
  "language_info": {
   "codemirror_mode": {
    "name": "ipython",
    "version": 3
   },
   "file_extension": ".py",
   "mimetype": "text/x-python",
   "name": "python",
   "nbconvert_exporter": "python",
   "pygments_lexer": "ipython3",
   "version": "3.13.5"
  }
 },
 "nbformat": 4,
 "nbformat_minor": 5
}
