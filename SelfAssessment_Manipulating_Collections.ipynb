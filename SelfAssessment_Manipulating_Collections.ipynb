{
 "cells": [
  {
   "cell_type": "code",
   "execution_count": 1,
   "id": "c28605a1-c1f1-4757-9433-ed646c9b497d",
   "metadata": {},
   "outputs": [],
   "source": [
    "# Lucy Browne, 22/10/25"
   ]
  },
  {
   "cell_type": "code",
   "execution_count": 41,
   "id": "c7dd65e5-f64d-418f-b9ba-d48920da1075",
   "metadata": {},
   "outputs": [],
   "source": [
    "tuple1 = (1, 2, 3, 4, 5, 6, 7, 8, 9, 10, 11, 12)"
   ]
  },
  {
   "cell_type": "code",
   "execution_count": 42,
   "id": "34df29c2-33dc-4e0f-9162-e8d3f25bf032",
   "metadata": {},
   "outputs": [
    {
     "name": "stdout",
     "output_type": "stream",
     "text": [
      "[1, 2, 3, 4]\n",
      "[5, 6, 7, 8]\n",
      "[9, 10, 11, 12]\n"
     ]
    }
   ],
   "source": [
    "list1 = list(tuple1[:4])\n",
    "list2 = list(tuple1[4:8])\n",
    "list3 = list(tuple1[-4:])\n",
    "print(list1)\n",
    "print(list2)\n",
    "print(list3)"
   ]
  },
  {
   "cell_type": "code",
   "execution_count": 43,
   "id": "3427f0a8-9a8d-4782-a21a-20d69fae2729",
   "metadata": {},
   "outputs": [
    {
     "name": "stdout",
     "output_type": "stream",
     "text": [
      "[4, 3, 2, 1]\n",
      "[8, 7, 6, 5]\n",
      "[12, 11, 10, 9]\n"
     ]
    }
   ],
   "source": [
    "list1.reverse()\n",
    "resersed_list1 = print(list1)\n",
    "list2.reverse()\n",
    "resersed_list2 = print(list2)\n",
    "list3.reverse()\n",
    "resersed_list2 = print(list3)"
   ]
  }
 ],
 "metadata": {
  "kernelspec": {
   "display_name": "Python [conda env:base] *",
   "language": "python",
   "name": "conda-base-py"
  },
  "language_info": {
   "codemirror_mode": {
    "name": "ipython",
    "version": 3
   },
   "file_extension": ".py",
   "mimetype": "text/x-python",
   "name": "python",
   "nbconvert_exporter": "python",
   "pygments_lexer": "ipython3",
   "version": "3.13.5"
  }
 },
 "nbformat": 4,
 "nbformat_minor": 5
}
