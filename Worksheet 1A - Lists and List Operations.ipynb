{
 "cells": [
  {
   "cell_type": "markdown",
   "metadata": {},
   "source": [
    "# Worksheet 1A: Lists and List Operations\n",
    "This worksheet corresponds to *Lesson 1A: Lists and List Operations* in the online course. Refer to that lesson as necessary to complete the practice exercises here."
   ]
  },
  {
   "cell_type": "markdown",
   "metadata": {},
   "source": [
    "## Practice 1\n",
    "Create a list that contains  the following information (in this specific order):\t\n",
    "* Your first name \t\n",
    "* Your last name\t\n",
    "* Your age\t\n",
    "* The average number of miles you travel to work every day (round trip)"
   ]
  },
  {
   "cell_type": "code",
   "execution_count": 2,
   "metadata": {},
   "outputs": [
    {
     "data": {
      "text/plain": [
       "['Lucy', 'Browne', 29, 0]"
      ]
     },
     "execution_count": 2,
     "metadata": {},
     "output_type": "execute_result"
    }
   ],
   "source": [
    "my_list = [\"Lucy\", \"Browne\", 29, 0]\n",
    "my_list"
   ]
  },
  {
   "cell_type": "markdown",
   "metadata": {},
   "source": [
    "## Practice 2\n",
    "Modify the list definition (add or remove elements) so the `print` command displays `True`. "
   ]
  },
  {
   "cell_type": "code",
   "execution_count": 3,
   "metadata": {},
   "outputs": [
    {
     "name": "stdout",
     "output_type": "stream",
     "text": [
      "True\n"
     ]
    }
   ],
   "source": [
    "list_of_strings = [\"Kate\", \"Jennifer\", \"Mike\", \"Bob\", \"James\"]\n",
    "\n",
    "# do not change the following code\n",
    "test = len(list_of_strings) == 5 # check that the size of the list is equal to 5\n",
    "print(test)"
   ]
  },
  {
   "cell_type": "markdown",
   "metadata": {},
   "source": [
    "## Practice 3a\n",
    "Update the following code to display only the first character of each name in the list of names.\n",
    "\n",
    "**Tip**: Review the use of index values in strings."
   ]
  },
  {
   "cell_type": "code",
   "execution_count": 6,
   "metadata": {},
   "outputs": [
    {
     "name": "stdout",
     "output_type": "stream",
     "text": [
      "K\n",
      "J\n",
      "M\n"
     ]
    }
   ],
   "source": [
    "list_of_strings = [\"Kate\", \"Jennifer\", \"Mike\"]\n",
    "person_1 = list_of_strings[0][0] # access the first element of the list\n",
    "print(person_1)\n",
    "\n",
    "person_2 = list_of_strings[1][0] # access the second element of the list\n",
    "print(person_2)\n",
    "\n",
    "person_3 = list_of_strings[2][0] # access the third (and last) element of the list\n",
    "print(person_3)"
   ]
  },
  {
   "cell_type": "markdown",
   "metadata": {},
   "source": [
    "## Practice 3b\n",
    "When we use the `split` function on a string that contains multiple words, Python creates a list that includes each word in the string as a separate item in the list.\n",
    "\n",
    "Create a script that performs the following steps:\t\n",
    "1. Prompt the user for their name in the format: \"last_name, first_name\".\t\n",
    "1. Use the `split` function to separate the names in the input string.\t\n",
    "1. Store each name in its own variable.\t\n",
    "1. Display the first name to the user with an appropriate feedback message.\t\n",
    "1. Display the last name to the user without the comma and with an appropriate feedback message.\t\n",
    "\n",
    "**Challenge**: Allow the user to enter their name using any case. Display each name with only the first letter capitalized, regardless of the case used to enter the name."
   ]
  },
  {
   "cell_type": "code",
   "execution_count": 16,
   "metadata": {},
   "outputs": [
    {
     "name": "stdout",
     "output_type": "stream",
     "text": [
      "first name: Lucy \n",
      "last name: Browne\n"
     ]
    }
   ],
   "source": [
    "name = \"Browne, Lucy\"\n",
    "list = name.split(\", \")\n",
    "first_name = list[1]\n",
    "last_name = list[0]\n",
    "print(\"first name:\",first_name,\"\\nlast name:\",last_name)"
   ]
  },
  {
   "cell_type": "code",
   "execution_count": 17,
   "metadata": {},
   "outputs": [
    {
     "name": "stdout",
     "output_type": "stream",
     "text": [
      "first name: Lucy \n",
      "last name: Browne\n"
     ]
    }
   ],
   "source": [
    "name = \"BROWNE, lucy\"\n",
    "list = name.split(\", \")\n",
    "first_name = list[1].capitalize()\n",
    "last_name = list[0].capitalize()\n",
    "print(\"first name:\",first_name,\"\\nlast name:\",last_name)"
   ]
  },
  {
   "cell_type": "code",
   "execution_count": 18,
   "metadata": {},
   "outputs": [
    {
     "name": "stdout",
     "output_type": "stream",
     "text": [
      "first name: Lucy \n",
      "last name: Browne\n"
     ]
    }
   ],
   "source": [
    "name = \"BROWNE, lucy\"\n",
    "list = name.split(\", \")\n",
    "first_name = list[1][0].upper()+list[1][1:].lower()\n",
    "last_name = list[0][0].upper()+list[0][1:].lower()\n",
    "print(\"first name:\",first_name,\"\\nlast name:\",last_name)"
   ]
  },
  {
   "cell_type": "markdown",
   "metadata": {},
   "source": [
    "## Practice 4\n",
    "Fix the following code so each of the `print` lines displays the expected data."
   ]
  },
  {
   "cell_type": "code",
   "execution_count": 20,
   "metadata": {},
   "outputs": [
    {
     "name": "stdout",
     "output_type": "stream",
     "text": [
      "First name: John\n",
      "Last name: Smith\n",
      "Address: 123 East Main Street\n",
      "City: Boston\n",
      "Profession: Junior Software Developer\n"
     ]
    }
   ],
   "source": [
    "# do not change the first line\n",
    "info = [\"John\", \"Smith\", \"123 East Main Street\", \"Boston\", \"Junior Software Developer\"]\n",
    "\n",
    "# change the index values in the output statements\n",
    "print(\"First name: \" + info[0])\n",
    "print(\"Last name: \" + info[1])\n",
    "print(\"Address: \" + info[2])\n",
    "print(\"City: \" + info[3])\n",
    "print(\"Profession: \" + info[-1])"
   ]
  },
  {
   "cell_type": "markdown",
   "metadata": {},
   "source": [
    "## Practice 5a\n",
    "Using the code below as a starting point, update the slicing code for `team_1` and `team_3` **without** referencing both index values. The output should not change."
   ]
  },
  {
   "cell_type": "code",
   "execution_count": 22,
   "metadata": {},
   "outputs": [
    {
     "name": "stdout",
     "output_type": "stream",
     "text": [
      "['John', 'Mike', 'Serena', 'Jennifer', 'Abby', 'Lisa']\n",
      "The first team is:\n",
      "['John', 'Mike']\n",
      "The second team is:\n",
      "['Serena', 'Jennifer']\n",
      "The third team is:\n",
      "['Abby', 'Lisa']\n"
     ]
    }
   ],
   "source": [
    "list_of_names = [\"John\", \"Mike\", \"Serena\", \"Jennifer\", \"Abby\", \"Lisa\"]\n",
    "print(list_of_names)\n",
    "\n",
    "team_1 = list_of_names[:2] #use slicing to retrieve the first two elements\n",
    "print(\"The first team is:\")\n",
    "print(team_1)\n",
    "\n",
    "team_2 = list_of_names[2:4] #use slicing to retrieve the middle two elements\n",
    "print(\"The second team is:\")\n",
    "print(team_2)\n",
    "\n",
    "team_3 = list_of_names[4:] #use slicing to retrieve the last two elements\n",
    "print(\"The third team is:\")\n",
    "print(team_3)"
   ]
  },
  {
   "cell_type": "markdown",
   "metadata": {},
   "source": [
    "## Practice 5b\n",
    "The list below contains the abbreviations for all states in the USA.\n",
    "\n",
    "Use slicing to create three new lists:\t\n",
    "* One list that contains all states that start with M\t\n",
    "* One list that contains all states that start with W\t\n",
    "* One list that contains all states that start with V"
   ]
  },
  {
   "cell_type": "code",
   "execution_count": 23,
   "metadata": {},
   "outputs": [
    {
     "name": "stdout",
     "output_type": "stream",
     "text": [
      "['ME', 'MD', 'MA', 'MI', 'MN', 'MS', 'MO', 'MT']\n",
      "['WA', 'WV', 'WI', 'WY']\n",
      "['VT', 'VA']\n"
     ]
    }
   ],
   "source": [
    "states = [\"AL\", \"AK\", \"AZ\", \"AR\", \"CA\", \"CO\", \"CT\", \"DE\", \"FL\", \"GA\", \n",
    "          \"HI\", \"ID\", \"IL\", \"IN\", \"IA\", \"KS\", \"KY\", \"LA\", \"ME\", \"MD\", \n",
    "          \"MA\", \"MI\", \"MN\", \"MS\", \"MO\", \"MT\", \"NE\", \"NV\", \"NH\", \"NJ\", \n",
    "          \"NM\", \"NY\", \"NC\", \"ND\", \"OH\", \"OK\", \"OR\", \"PA\", \"RI\", \"SC\", \n",
    "          \"SD\", \"TN\", \"TX\", \"UT\", \"VT\", \"VA\", \"WA\", \"WV\", \"WI\", \"WY\"]\n",
    "# continue code here\n",
    "states_M = states[18:26]\n",
    "print(states_M)\n",
    "states_W = states[-4:]\n",
    "print(states_W)\n",
    "states_V = states[-6:-4]\n",
    "print(states_V)"
   ]
  },
  {
   "cell_type": "markdown",
   "metadata": {},
   "source": [
    "## Practice 6\n",
    "Using the `append` method, add  the following information in this specific order: \t\n",
    "* Your first name \t\n",
    "* Your last name\t\n",
    "* Your age\t\n",
    "* The average number of miles you travel to work every day (round trip)"
   ]
  },
  {
   "cell_type": "code",
   "execution_count": 24,
   "metadata": {},
   "outputs": [
    {
     "data": {
      "text/plain": [
       "['Lucy', 'Browne', '29', 0]"
      ]
     },
     "execution_count": 24,
     "metadata": {},
     "output_type": "execute_result"
    }
   ],
   "source": [
    "info = []  # the info list is initially empty\n",
    "# continue code here\n",
    "info.append(\"Lucy\")\n",
    "info.append(\"Browne\")\n",
    "info.append(\"29\")\n",
    "info.append(0)\n",
    "info"
   ]
  },
  {
   "cell_type": "markdown",
   "metadata": {},
   "source": [
    "## Practice 7\n",
    "Use the `insert` method to add the appropriate information to the list and then update the `print` statements so the data is displayed correctly. Use any random address.\t\n",
    "\n",
    "**Hint**: You will need to add the address to `info` at the appropriate index. "
   ]
  },
  {
   "cell_type": "code",
   "execution_count": null,
   "metadata": {},
   "outputs": [],
   "source": [
    "info = [\"John\", \"Smith\", \"Boston\", \"Junior Software Developer\"]\n",
    "#your code goes here \n",
    "info.insert(3,\"Bob Street\")\n",
    "\n",
    "#this code should be executed last \n",
    "print(\"First name: \" + info[0])\n",
    "print(\"Last name: \" + info[1])\n",
    "print(\"Address: \" + info[3])\n",
    "print(\"City: \" + info[2])\n",
    "print(\"Profession: \" + info[-1])"
   ]
  },
  {
   "cell_type": "markdown",
   "metadata": {},
   "source": [
    "## Practice 8\n",
    "Use the `remove` method in the code below to delete all duplicate values in the list. \n",
    "\n",
    "Each value in the original list should be included exactly one time in the final version of the list."
   ]
  },
  {
   "cell_type": "code",
   "execution_count": 3,
   "metadata": {},
   "outputs": [],
   "source": [
    "input_list = [\"Haythem\", \"Mike\", 1, \"Layla\", \"Livia\", \"Layla\", 2, 1, 2, 3, \"Mike\", \"Jesse\", \"Haythem\"]\n",
    "\n",
    "# your code here \n",
    "input_list.remove(\"Haythem\")\n",
    "input_list.remove(\"Mike\")\n",
    "input_list.remove(1)\n",
    "input_list.remove(\"Layla\")\n",
    "input_list.remove(2)"
   ]
  },
  {
   "cell_type": "code",
   "execution_count": 4,
   "metadata": {},
   "outputs": [
    {
     "data": {
      "text/plain": [
       "['Livia', 'Layla', 1, 2, 3, 'Mike', 'Jesse', 'Haythem']"
      ]
     },
     "execution_count": 4,
     "metadata": {},
     "output_type": "execute_result"
    }
   ],
   "source": [
    "input_list"
   ]
  },
  {
   "cell_type": "markdown",
   "metadata": {},
   "source": [
    "## Practice 9\n",
    "Create code below that performs the following steps: \t\n",
    "* Concatenate the three lists. \t\n",
    "* Use the `remove` method to delete all the negative numbers from the new list. "
   ]
  },
  {
   "cell_type": "code",
   "execution_count": 5,
   "metadata": {},
   "outputs": [
    {
     "name": "stdout",
     "output_type": "stream",
     "text": [
      "[1, -1, 4, 6, 0, 1, 67, -98, 45, 65, 2, -54, -434]\n"
     ]
    }
   ],
   "source": [
    "list_1 = [1,-1,4,6]\n",
    "list_2 = [0,1,67,-98]\n",
    "list_3 = [45,65,2,-54,-434]\n",
    "\n",
    "# your code here \n",
    "list_4 = list_1+list_2+list_3\n",
    "print(list_4)"
   ]
  },
  {
   "cell_type": "code",
   "execution_count": 7,
   "metadata": {},
   "outputs": [
    {
     "name": "stdout",
     "output_type": "stream",
     "text": [
      "[1, 4, 6, 0, 1, 67, 45, 65, 2]\n"
     ]
    }
   ],
   "source": [
    "for num in list_4.copy():\n",
    "    if num < 0:\n",
    "        list_4.remove(num)\n",
    "print(list_4)"
   ]
  }
 ],
 "metadata": {
  "kernelspec": {
   "display_name": "Python [conda env:base] *",
   "language": "python",
   "name": "conda-base-py"
  },
  "language_info": {
   "codemirror_mode": {
    "name": "ipython",
    "version": 3
   },
   "file_extension": ".py",
   "mimetype": "text/x-python",
   "name": "python",
   "nbconvert_exporter": "python",
   "pygments_lexer": "ipython3",
   "version": "3.13.5"
  }
 },
 "nbformat": 4,
 "nbformat_minor": 4
}
