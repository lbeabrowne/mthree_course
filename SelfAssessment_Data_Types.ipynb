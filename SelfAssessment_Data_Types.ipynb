{
 "cells": [
  {
   "cell_type": "code",
   "execution_count": 1,
   "id": "0d2981b3-e2b7-4097-b9d9-cc2cf3f64e9b",
   "metadata": {},
   "outputs": [],
   "source": [
    "# Lucy Browne, 23/10/25"
   ]
  },
  {
   "cell_type": "code",
   "execution_count": 6,
   "id": "00985186-fb9b-4618-ba1c-80aa82589348",
   "metadata": {},
   "outputs": [
    {
     "name": "stdout",
     "output_type": "stream",
     "text": [
      "Please enter your details below.\n",
      "\n"
     ]
    },
    {
     "name": "stdin",
     "output_type": "stream",
     "text": [
      "first name: bob\n",
      "last name: smITH\n",
      "city where you live: LONDON\n",
      "hourly wage: 12.35\n",
      "number of hours worked each week: 37.5\n"
     ]
    },
    {
     "name": "stdout",
     "output_type": "stream",
     "text": [
      "\n",
      "Hi, Bob Smith! How are you?\n",
      "I hope the weather is nice in London.\n",
      "Based on the information you provided, you earn 463.12 dollars per week, approximately 1852 dollars per month, and 24148 dollars per year.\n"
     ]
    }
   ],
   "source": [
    "print(\"Please enter your details below.\\n\")\n",
    "\n",
    "first_name = input(\"first name:\").lower().capitalize()\n",
    "last_name = input(\"last name:\").lower().capitalize()\n",
    "city = input(\"city where you live:\").lower().capitalize()\n",
    "hourly_wage = float(input(\"hourly wage:\"))\n",
    "nb_hours = float(input(\"number of hours worked each week:\"))\n",
    "\n",
    "weekly_wage = round((hourly_wage * nb_hours),2)\n",
    "monthly_wage = int(weekly_wage * 4)\n",
    "annual_wage = int((weekly_wage / 7) * 365)\n",
    "\n",
    "print(f\"\\nHi, {first_name} {last_name}! How are you?\")\n",
    "print(f\"I hope the weather is nice in {city}.\")\n",
    "print(f\"Based on the information you provided, you earn {weekly_wage} dollars per week, \\\n",
    "approximately {monthly_wage} dollars per month, and {annual_wage} dollars per year.\")"
   ]
  }
 ],
 "metadata": {
  "kernelspec": {
   "display_name": "Python [conda env:base] *",
   "language": "python",
   "name": "conda-base-py"
  },
  "language_info": {
   "codemirror_mode": {
    "name": "ipython",
    "version": 3
   },
   "file_extension": ".py",
   "mimetype": "text/x-python",
   "name": "python",
   "nbconvert_exporter": "python",
   "pygments_lexer": "ipython3",
   "version": "3.13.5"
  }
 },
 "nbformat": 4,
 "nbformat_minor": 5
}
